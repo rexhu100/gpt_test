{
 "cells": [
  {
   "cell_type": "code",
   "execution_count": 1,
   "id": "c4aa536e-6059-41e6-9e24-3189be14fabb",
   "metadata": {
    "tags": []
   },
   "outputs": [],
   "source": [
    "import openai\n",
    "import os\n",
    "\n",
    "from dotenv import load_dotenv, find_dotenv"
   ]
  },
  {
   "cell_type": "code",
   "execution_count": 2,
   "id": "b578b716-4525-4e2e-bf01-e7d68aa8c510",
   "metadata": {
    "tags": []
   },
   "outputs": [],
   "source": [
    "_ = load_dotenv(find_dotenv())\n",
    "\n",
    "openai.api_key  = os.getenv('OPENAI_API_KEY')"
   ]
  },
  {
   "cell_type": "code",
   "execution_count": 3,
   "id": "9931af52-d0ef-4019-b778-8e2a3e91be85",
   "metadata": {
    "tags": []
   },
   "outputs": [],
   "source": [
    "def get_completion(prompt, model=\"gpt-3.5-turbo\"):\n",
    "    messages = [{\"role\": \"user\", \"content\": prompt}]\n",
    "    response = openai.ChatCompletion.create(\n",
    "        model=model,\n",
    "        messages=messages,\n",
    "        temperature=0, # this is the degree of randomness of the model's output\n",
    "    )\n",
    "    return response.choices[0].message[\"content\"]"
   ]
  },
  {
   "cell_type": "markdown",
   "id": "06bedf10-b47e-4e26-a010-525140574559",
   "metadata": {},
   "source": [
    "## Prompting Principles\n",
    "- **Principle 1: Write clear and specific instructions**\n",
    "- **Principle 2: Give the model time to “think”**\n",
    "\n",
    "### Tactics\n",
    "\n",
    "#### Tactic 1: Use delimiters to clearly indicate distinct parts of the input\n",
    "- Delimiters can be anything like: ```, \"\"\", < >, `<tag> </tag>`, `:`"
   ]
  },
  {
   "cell_type": "code",
   "execution_count": 4,
   "id": "2c986b0a-5394-4dc8-9c20-2f369187bdfc",
   "metadata": {
    "tags": []
   },
   "outputs": [],
   "source": [
    "review = \"\"\"\n",
    "Don't get me wrong, it has some nice features with the camera, nice gimbal, nice IR blaster and the interface is neat. As an RC Toy it is pretty dang nifty, but as a STEM learning aid you should either look elsewhere for the price range or buy something cheaper that does more.\n",
    "\n",
    "Now, the issues:\n",
    "\n",
    "* The bead cannon doesn't really work right on either one, it spits them out. (both bots)\n",
    "* The sensors suck. They advertise 7(!) IR wide sensors and 2 IR narrow sensors. Yeah, you can't address them and all they are is turret mounted hit sensors (on/off, not R/L/F/B or anything, just \"you've been hit\".) There is no IR ranging, no you've been hit from behind.\n",
    "* The \"armor\" sensors are just mics that are supposed to hear the beads hitting it, but the bead guns don't work well and you have to hit the \"armor\" plate.\n",
    "\n",
    "Basically for programming you are get to make it move around or use their inbuilt number recognition and shoot number targets. You can't program combat robots to react to each other, you can't have it follow a wall, you can't find/range another robot.\n",
    "\"\"\""
   ]
  },
  {
   "cell_type": "code",
   "execution_count": 5,
   "id": "9295c023-7251-44c2-a350-5143a7edbb2a",
   "metadata": {
    "tags": []
   },
   "outputs": [],
   "source": [
    "prompt = f\"\"\"\n",
    "Your task is to analyze the sentiment of the piece of review delimited by triple backticks. \n",
    "\n",
    "This review is for the product 'DJI RoboMaster S1 - Educational Robot STEM Programmable Science Learning Mini Car'. \n",
    "\n",
    "In your response, please categorize the sentiment into one of the following types: positive, negative, neutral\n",
    "\n",
    "Reivew: ```{review}```\n",
    "\"\"\""
   ]
  },
  {
   "cell_type": "code",
   "execution_count": 6,
   "id": "93c36389-6543-439e-af0a-e991ab57cb01",
   "metadata": {
    "tags": []
   },
   "outputs": [
    {
     "data": {
      "text/plain": [
       "'Sentiment: Negative'"
      ]
     },
     "execution_count": 6,
     "metadata": {},
     "output_type": "execute_result"
    }
   ],
   "source": [
    "get_completion(prompt)"
   ]
  },
  {
   "cell_type": "code",
   "execution_count": null,
   "id": "9f0a823c-4521-46b0-a6cc-baa0a7329d59",
   "metadata": {},
   "outputs": [],
   "source": []
  }
 ],
 "metadata": {
  "kernelspec": {
   "display_name": "Python 3 (ipykernel)",
   "language": "python",
   "name": "python3"
  },
  "language_info": {
   "codemirror_mode": {
    "name": "ipython",
    "version": 3
   },
   "file_extension": ".py",
   "mimetype": "text/x-python",
   "name": "python",
   "nbconvert_exporter": "python",
   "pygments_lexer": "ipython3",
   "version": "3.10.10"
  }
 },
 "nbformat": 4,
 "nbformat_minor": 5
}
